{
 "cells": [
  {
   "cell_type": "code",
   "execution_count": 1,
   "metadata": {},
   "outputs": [],
   "source": [
    "import matplotlib.pyplot as plt\n",
    "import pandas as pd"
   ]
  },
  {
   "cell_type": "code",
   "execution_count": 3,
   "metadata": {},
   "outputs": [],
   "source": [
    "# Importing the dataset\n",
    "dataset = pd.read_csv(r'C:\\Users\\priya\\Downloads\\cars.csv')\n"
   ]
  },
  {
   "cell_type": "code",
   "execution_count": 13,
   "metadata": {},
   "outputs": [
    {
     "name": "stdout",
     "output_type": "stream",
     "text": [
      "      mpg   cylinders   cubicinches   hp   weightlbs   time-to-60   year\n",
      "0    14.0           8           350  165        4209           12   1972\n",
      "1    31.9           4            89   71        1925           14   1980\n",
      "2    17.0           8           302  140        3449           11   1971\n",
      "3    15.0           8           400  150        3761           10   1971\n",
      "4    30.5           4            98   63        2051           17   1978\n",
      "..    ...         ...           ...  ...         ...          ...    ...\n",
      "256  17.0           8           305  130        3840           15   1980\n",
      "257  36.1           4            91   60        1800           16   1979\n",
      "258  22.0           6           232  112        2835           15   1983\n",
      "259  18.0           6           232  100        3288           16   1972\n",
      "260  22.0           6           250  105        3353           15   1977\n",
      "\n",
      "[261 rows x 7 columns]\n"
     ]
    }
   ],
   "source": [
    "print(dataset)"
   ]
  },
  {
   "cell_type": "code",
   "execution_count": 4,
   "metadata": {},
   "outputs": [],
   "source": [
    "#Take all the columns\n",
    "X = dataset.iloc[:, :].values"
   ]
  },
  {
   "cell_type": "code",
   "execution_count": 6,
   "metadata": {},
   "outputs": [
    {
     "name": "stdout",
     "output_type": "stream",
     "text": [
      "[[1.400e+01 8.000e+00 3.500e+02 ... 4.209e+03 1.200e+01 1.972e+03]\n",
      " [3.190e+01 4.000e+00 8.900e+01 ... 1.925e+03 1.400e+01 1.980e+03]\n",
      " [1.700e+01 8.000e+00 3.020e+02 ... 3.449e+03 1.100e+01 1.971e+03]\n",
      " ...\n",
      " [2.200e+01 6.000e+00 2.320e+02 ... 2.835e+03 1.500e+01 1.983e+03]\n",
      " [1.800e+01 6.000e+00 2.320e+02 ... 3.288e+03 1.600e+01 1.972e+03]\n",
      " [2.200e+01 6.000e+00 2.500e+02 ... 3.353e+03 1.500e+01 1.977e+03]]\n"
     ]
    }
   ],
   "source": [
    "print(X)"
   ]
  },
  {
   "cell_type": "code",
   "execution_count": 7,
   "metadata": {},
   "outputs": [],
   "source": [
    "# Using the elbow method to find the optimal number of clusters\n",
    "from sklearn.cluster import KMeans\n",
    "wcss = []"
   ]
  },
  {
   "cell_type": "code",
   "execution_count": 8,
   "metadata": {},
   "outputs": [],
   "source": [
    "for i in range(1, 11):\n",
    "    k_means = KMeans(n_clusters = i, init = 'k-means++', random_state = 42)\n",
    "    k_means.fit(X)\n",
    "    wcss.append(k_means.inertia_)"
   ]
  },
  {
   "cell_type": "code",
   "execution_count": 9,
   "metadata": {},
   "outputs": [
    {
     "data": {
      "image/png": "[encoded data removed]",
      "text/plain": [
       "<Figure size 432x288 with 1 Axes>"
      ]
     },
     "metadata": {
      "needs_background": "light"
     },
     "output_type": "display_data"
    }
   ],
   "source": [
    "plt.plot(range(1, 11), wcss)\n",
    "plt.title('Elbow Method')\n",
    "plt.xlabel('Number of Clusters')\n",
    "plt.ylabel('WCSS')\n",
    "plt.show()"
   ]
  },
  {
   "cell_type": "markdown",
   "metadata": {},
   "source": [
    "From figure we can say optimal number of cluster is 3.\n",
    "\n"
   ]
  },
  {
   "cell_type": "code",
   "execution_count": 10,
   "metadata": {},
   "outputs": [
    {
     "name": "stdout",
     "output_type": "stream",
     "text": [
      "[0 1 2 0 1 0 0 0 2 1 1 1 0 2 0 0 1 2 1 1 1 1 2 0 1 1 1 0 2 1 1 2 1 2 1 2 1\n",
      " 1 0 2 0 0 2 2 2 1 0 1 1 2 0 2 2 1 0 0 2 1 1 0 2 1 2 1 0 2 1 1 1 0 2 1 1 1\n",
      " 1 2 2 1 1 1 0 0 2 1 1 1 2 2 1 1 1 1 0 2 1 0 0 2 0 0 0 0 1 1 1 1 1 1 1 2 1\n",
      " 2 0 1 1 0 2 2 1 0 1 1 0 2 1 1 0 1 1 1 1 1 0 2 0 0 1 2 2 2 1 1 1 1 2 2 2 2\n",
      " 2 2 1 1 0 2 1 2 1 1 1 2 2 0 2 2 1 2 2 1 2 1 1 2 1 1 1 1 0 2 2 1 2 1 0 2 1\n",
      " 2 2 0 0 0 1 1 0 0 0 1 1 1 1 1 1 1 2 2 1 0 1 2 0 2 2 2 1 1 2 1 1 0 1 0 2 2\n",
      " 0 0 0 1 0 1 1 2 2 1 1 0 2 1 0 2 1 1 0 2 0 1 0 2 0 1 1 1 1 1 2 0 2 1 0 1 2\n",
      " 2 2]\n"
     ]
    }
   ],
   "source": [
    "# Applying k-means to the cars dataset\n",
    "model = KMeans(n_clusters = 3, init = 'k-means++', random_state = 42)\n",
    "model_predict = model.fit_predict(X)\n",
    "print(model_predict )"
   ]
  },
  {
   "cell_type": "code",
   "execution_count": null,
   "metadata": {},
   "outputs": [],
   "source": []
  }
 ],
 "metadata": {
  "kernelspec": {
   "display_name": "Python 3",
   "language": "python",
   "name": "python3"
  },
  "language_info": {
   "codemirror_mode": {
    "name": "ipython",
    "version": 3
   },
   "file_extension": ".py",
   "mimetype": "text/x-python",
   "name": "python",
   "nbconvert_exporter": "python",
   "pygments_lexer": "ipython3",
   "version": "3.7.6"
  }
 },
 "nbformat": 4,
 "nbformat_minor": 4
}
